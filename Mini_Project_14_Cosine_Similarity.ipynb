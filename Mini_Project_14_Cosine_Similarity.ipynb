{
  "nbformat": 4,
  "nbformat_minor": 0,
  "metadata": {
    "colab": {
      "provenance": [],
      "authorship_tag": "ABX9TyPaNumFbIUCjE7blPC2QyHM",
      "include_colab_link": true
    },
    "kernelspec": {
      "name": "python3",
      "display_name": "Python 3"
    },
    "language_info": {
      "name": "python"
    }
  },
  "cells": [
    {
      "cell_type": "markdown",
      "metadata": {
        "id": "view-in-github",
        "colab_type": "text"
      },
      "source": [
        "<a href=\"https://colab.research.google.com/github/AnishNoel24/Mini-Project-14-Cosine-Similarity/blob/main/Mini_Project_14_Cosine_Similarity.ipynb\" target=\"_parent\"><img src=\"https://colab.research.google.com/assets/colab-badge.svg\" alt=\"Open In Colab\"/></a>"
      ]
    },
    {
      "cell_type": "code",
      "execution_count": 1,
      "metadata": {
        "colab": {
          "base_uri": "https://localhost:8080/"
        },
        "id": "7KcWC655XCPB",
        "outputId": "89092cf7-a0fc-4c02-f7e2-a4ac9ba514ce"
      },
      "outputs": [
        {
          "output_type": "stream",
          "name": "stdout",
          "text": [
            "Looking in indexes: https://pypi.org/simple, https://us-python.pkg.dev/colab-wheels/public/simple/\n",
            "Requirement already satisfied: numpy in /usr/local/lib/python3.10/dist-packages (1.22.4)\n",
            "Requirement already satisfied: scikit-learn in /usr/local/lib/python3.10/dist-packages (1.2.2)\n",
            "Requirement already satisfied: scipy>=1.3.2 in /usr/local/lib/python3.10/dist-packages (from scikit-learn) (1.10.1)\n",
            "Requirement already satisfied: joblib>=1.1.1 in /usr/local/lib/python3.10/dist-packages (from scikit-learn) (1.2.0)\n",
            "Requirement already satisfied: threadpoolctl>=2.0.0 in /usr/local/lib/python3.10/dist-packages (from scikit-learn) (3.1.0)\n"
          ]
        }
      ],
      "source": [
        "pip install numpy scikit-learn\n"
      ]
    },
    {
      "cell_type": "code",
      "source": [
        "import numpy as np\n",
        "from sklearn.feature_extraction.text import CountVectorizer\n",
        "from sklearn.metrics.pairwise import cosine_similarity\n",
        "\n",
        "def preprocess_text(text):\n",
        "    # Preprocess the text (you can customize this based on your requirements)\n",
        "    processed_text = text.lower()  # Convert to lowercase\n",
        "    # Additional preprocessing steps like removing punctuation, stopwords, etc.\n",
        "\n",
        "    return processed_text\n",
        "\n",
        "def calculate_cosine_similarity(file1, file2):\n",
        "    # Read the contents of the files\n",
        "    with open(file1, 'r') as f:\n",
        "        text1 = f.read()\n",
        "    with open(file2, 'r') as f:\n",
        "        text2 = f.read()\n",
        "\n",
        "    # Preprocess the text\n",
        "    processed_text1 = preprocess_text(text1)\n",
        "    processed_text2 = preprocess_text(text2)\n",
        "\n",
        "    # Create a CountVectorizer to convert text into vectors\n",
        "    vectorizer = CountVectorizer()\n",
        "    vectorizer.fit([processed_text1, processed_text2])\n",
        "    vector1 = vectorizer.transform([processed_text1]).toarray()\n",
        "    vector2 = vectorizer.transform([processed_text2]).toarray()\n",
        "\n",
        "    # Calculate the cosine similarity\n",
        "    similarity = cosine_similarity(vector1, vector2)[0][0]\n",
        "    return similarity\n",
        "\n",
        "# Example usage\n",
        "file1 = 'Ben.txt'\n",
        "file2 = 'Arthur.txt'\n",
        "\n",
        "similarity_score = calculate_cosine_similarity(file1, file2)\n",
        "print(\"Cosine Similarity:\", similarity_score)\n"
      ],
      "metadata": {
        "colab": {
          "base_uri": "https://localhost:8080/"
        },
        "id": "OKNKVlIiXDQU",
        "outputId": "77b05047-efb2-4c98-df8c-c1b9f7beb475"
      },
      "execution_count": 2,
      "outputs": [
        {
          "output_type": "stream",
          "name": "stdout",
          "text": [
            "Cosine Similarity: 0.6191968257235371\n"
          ]
        }
      ]
    },
    {
      "cell_type": "code",
      "source": [],
      "metadata": {
        "id": "qKG0paZaXY8n"
      },
      "execution_count": null,
      "outputs": []
    }
  ]
}